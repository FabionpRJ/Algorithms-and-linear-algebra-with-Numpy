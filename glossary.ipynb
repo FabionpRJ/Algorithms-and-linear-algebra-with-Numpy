{
 "cells": [
  {
   "cell_type": "code",
   "execution_count": 1,
   "id": "124a836b-a042-4047-b325-d716b5dd0907",
   "metadata": {
    "tags": []
   },
   "outputs": [],
   "source": [
    "import numpy as np"
   ]
  },
  {
   "cell_type": "markdown",
   "id": "e7b21ede-06e7-450b-80a1-e9510cde11f5",
   "metadata": {},
   "source": [
    "# Understanding Numpy "
   ]
  },
  {
   "cell_type": "markdown",
   "id": "07d32ab1-c9fd-4a3f-ab73-af0229a5807a",
   "metadata": {},
   "source": [
    "NumPy, or \"Numerical Python\", is a Python package most utilized in scientific computing. Many mathematical operations performed in NumPy are faster than in native Python, so it is ideal for highly demanding mathematical applications, such as Machine Learning.\n"
   ]
  },
  {
   "cell_type": "markdown",
   "id": "a78098c2-30d7-4cd1-a1a9-a06adbd0cc14",
   "metadata": {},
   "source": [
    "## Basics"
   ]
  },
  {
   "cell_type": "code",
   "execution_count": 42,
   "id": "ac2602d3-9ee8-4280-b812-24592384a604",
   "metadata": {
    "tags": []
   },
   "outputs": [
    {
     "data": {
      "text/plain": [
       "array([ 0,  1,  2,  3,  4,  5,  6,  7,  8,  9, 10, 11, 12, 13, 14])"
      ]
     },
     "execution_count": 42,
     "metadata": {},
     "output_type": "execute_result"
    }
   ],
   "source": [
    "#Creates a nx1 array\n",
    "n = 15\n",
    "arr = np.arange(n)\n",
    "arr"
   ]
  },
  {
   "cell_type": "code",
   "execution_count": 46,
   "id": "1601de5d-610e-412a-b78c-5488849b8c3f",
   "metadata": {
    "tags": []
   },
   "outputs": [
    {
     "data": {
      "text/plain": [
       "[0, 1, 2, 3, 4, 5, 6, 7, 8, 9, 10, 11, 12, 13, 14]"
      ]
     },
     "execution_count": 46,
     "metadata": {},
     "output_type": "execute_result"
    }
   ],
   "source": [
    "#Transforms np arrays to lists.\n",
    "larr = arr.tolist()\n",
    "larr"
   ]
  },
  {
   "cell_type": "code",
   "execution_count": 58,
   "id": "3245829a-9a78-4ef0-90b7-b7e0927dbb18",
   "metadata": {
    "tags": []
   },
   "outputs": [
    {
     "data": {
      "text/plain": [
       "array([[0., 0., 0.],\n",
       "       [0., 0., 0.],\n",
       "       [0., 0., 0.]])"
      ]
     },
     "execution_count": 58,
     "metadata": {},
     "output_type": "execute_result"
    }
   ],
   "source": [
    "# create a 3d zeros array\n",
    "arr = np.zeros((3,3))\n",
    "arr"
   ]
  },
  {
   "cell_type": "code",
   "execution_count": 68,
   "id": "09193c9f-cc4b-49da-b0ce-3ed8ecb614fd",
   "metadata": {
    "tags": []
   },
   "outputs": [
    {
     "data": {
      "text/plain": [
       "matrix([[0., 0., 0.],\n",
       "        [0., 0., 0.],\n",
       "        [0., 0., 0.]])"
      ]
     },
     "execution_count": 68,
     "metadata": {},
     "output_type": "execute_result"
    }
   ],
   "source": [
    "#transforms a array into a matrix\n",
    "mat = np.matrix(arr)\n",
    "mat"
   ]
  },
  {
   "cell_type": "markdown",
   "id": "16c48d2a-57c2-4534-af9c-5c1fcc781b46",
   "metadata": {},
   "source": [
    "## Arrays"
   ]
  },
  {
   "cell_type": "code",
   "execution_count": 74,
   "id": "4c966108-2051-4da4-8fc2-971480312975",
   "metadata": {
    "tags": []
   },
   "outputs": [
    {
     "data": {
      "text/plain": [
       "array([1, 2, 3])"
      ]
     },
     "execution_count": 74,
     "metadata": {},
     "output_type": "execute_result"
    }
   ],
   "source": [
    "#Creating an array from a list\n",
    "#\n",
    "# Just create a list of numbers, and pass it as a parameter for\n",
    "# np.array()\n",
    "#\n",
    "alist = [1,2,3]\n",
    "arr = np.array(alist)\n",
    "arr"
   ]
  },
  {
   "cell_type": "code",
   "execution_count": 78,
   "id": "a211edb7-2b8d-4811-8418-4234aa3ad55c",
   "metadata": {
    "tags": []
   },
   "outputs": [
    {
     "data": {
      "text/plain": [
       "array([0., 0., 0., 0., 0.])"
      ]
     },
     "execution_count": 78,
     "metadata": {},
     "output_type": "execute_result"
    }
   ],
   "source": [
    "# Creating an array of zeros\n",
    "#\n",
    "n = 5\n",
    "arr = np.zeros(n)\n",
    "arr"
   ]
  },
  {
   "cell_type": "code",
   "execution_count": 80,
   "id": "11e0fa6d-5781-4aee-9145-38070e8a33d5",
   "metadata": {
    "tags": []
   },
   "outputs": [
    {
     "data": {
      "text/plain": [
       "array([0, 1, 2, 3, 4, 5, 6, 7, 8, 9])"
      ]
     },
     "execution_count": 80,
     "metadata": {},
     "output_type": "execute_result"
    }
   ],
   "source": [
    "# Creating an array that goes from 0 to n\n",
    "#\n",
    "n = 10\n",
    "arr = np.arange(n)\n",
    "arr"
   ]
  },
  {
   "cell_type": "code",
   "execution_count": 82,
   "id": "33240f9a-3ec2-46ae-9128-908dafad006e",
   "metadata": {
    "tags": []
   },
   "outputs": [
    {
     "data": {
      "text/plain": [
       "array([10, 11, 12, 13, 14, 15, 16, 17, 18, 19, 20, 21, 22, 23, 24, 25, 26,\n",
       "       27, 28, 29, 30, 31, 32, 33, 34, 35, 36, 37, 38, 39, 40, 41, 42, 43,\n",
       "       44, 45, 46, 47, 48, 49, 50, 51, 52, 53, 54, 55, 56, 57, 58, 59, 60,\n",
       "       61, 62, 63, 64, 65, 66, 67, 68, 69, 70, 71, 72, 73, 74, 75, 76, 77,\n",
       "       78, 79, 80, 81, 82, 83, 84, 85, 86, 87, 88, 89, 90, 91, 92, 93, 94,\n",
       "       95, 96, 97, 98, 99])"
      ]
     },
     "execution_count": 82,
     "metadata": {},
     "output_type": "execute_result"
    }
   ],
   "source": [
    "# You can create an array that goes from n to k too\n",
    "n = 10\n",
    "k = 100\n",
    "arr = np.arange(n,k)\n",
    "arr"
   ]
  },
  {
   "cell_type": "code",
   "execution_count": 92,
   "id": "596c925d-c027-4346-bcbd-32cb604dd541",
   "metadata": {
    "tags": []
   },
   "outputs": [
    {
     "data": {
      "text/plain": [
       "array([0.        , 0.01010101, 0.02020202, 0.03030303, 0.04040404,\n",
       "       0.05050505, 0.06060606, 0.07070707, 0.08080808, 0.09090909,\n",
       "       0.1010101 , 0.11111111, 0.12121212, 0.13131313, 0.14141414,\n",
       "       0.15151515, 0.16161616, 0.17171717, 0.18181818, 0.19191919,\n",
       "       0.2020202 , 0.21212121, 0.22222222, 0.23232323, 0.24242424,\n",
       "       0.25252525, 0.26262626, 0.27272727, 0.28282828, 0.29292929,\n",
       "       0.3030303 , 0.31313131, 0.32323232, 0.33333333, 0.34343434,\n",
       "       0.35353535, 0.36363636, 0.37373737, 0.38383838, 0.39393939,\n",
       "       0.4040404 , 0.41414141, 0.42424242, 0.43434343, 0.44444444,\n",
       "       0.45454545, 0.46464646, 0.47474747, 0.48484848, 0.49494949,\n",
       "       0.50505051, 0.51515152, 0.52525253, 0.53535354, 0.54545455,\n",
       "       0.55555556, 0.56565657, 0.57575758, 0.58585859, 0.5959596 ,\n",
       "       0.60606061, 0.61616162, 0.62626263, 0.63636364, 0.64646465,\n",
       "       0.65656566, 0.66666667, 0.67676768, 0.68686869, 0.6969697 ,\n",
       "       0.70707071, 0.71717172, 0.72727273, 0.73737374, 0.74747475,\n",
       "       0.75757576, 0.76767677, 0.77777778, 0.78787879, 0.7979798 ,\n",
       "       0.80808081, 0.81818182, 0.82828283, 0.83838384, 0.84848485,\n",
       "       0.85858586, 0.86868687, 0.87878788, 0.88888889, 0.8989899 ,\n",
       "       0.90909091, 0.91919192, 0.92929293, 0.93939394, 0.94949495,\n",
       "       0.95959596, 0.96969697, 0.97979798, 0.98989899, 1.        ])"
      ]
     },
     "execution_count": 92,
     "metadata": {},
     "output_type": "execute_result"
    }
   ],
   "source": [
    "# You can create an array that goes from n to k\n",
    "# in any number of steps\n",
    "#\n",
    "n = 0\n",
    "k = 1\n",
    "steps = 100\n",
    "arr = np.linspace(n,k,steps)\n",
    "arr"
   ]
  },
  {
   "cell_type": "markdown",
   "id": "afa7247c-2e71-4c34-a1d9-ea601eaf5fca",
   "metadata": {},
   "source": [
    "That is a very good example of how numerical computing just has difficulty in counting floating-point numbers!"
   ]
  },
  {
   "cell_type": "code",
   "execution_count": 107,
   "id": "1f089d01-f6b9-4f51-86de-c1ebcaec4494",
   "metadata": {
    "tags": []
   },
   "outputs": [
    {
     "data": {
      "text/plain": [
       "array([ 1.        ,  1.29154967,  1.66810054,  2.15443469,  2.7825594 ,\n",
       "        3.59381366,  4.64158883,  5.9948425 ,  7.74263683, 10.        ])"
      ]
     },
     "execution_count": 107,
     "metadata": {},
     "output_type": "execute_result"
    }
   ],
   "source": [
    "# Suppose you want to make a logarithmic array of any base (in this case, 10),\n",
    "# going from one number (0) to another (1) with a number of steps (10).\n",
    "arr = np.logspace(0,1,10,base=10.0)\n",
    "arr"
   ]
  },
  {
   "cell_type": "code",
   "execution_count": 113,
   "id": "c94d57e2-57cb-4bd3-9073-76b80455844e",
   "metadata": {
    "tags": []
   },
   "outputs": [
    {
     "data": {
      "text/plain": [
       "array([[0., 0., 0.],\n",
       "       [0., 0., 0.],\n",
       "       [0., 0., 0.]])"
      ]
     },
     "execution_count": 113,
     "metadata": {},
     "output_type": "execute_result"
    }
   ],
   "source": [
    "# Create a nxn array of zeros\n",
    "#\n",
    "n = 3\n",
    "arr = np.zeros((3,3))\n",
    "arr"
   ]
  },
  {
   "cell_type": "code",
   "execution_count": 119,
   "id": "4be390bd-971e-44b3-b669-bfc812e669af",
   "metadata": {
    "tags": []
   },
   "outputs": [
    {
     "data": {
      "text/plain": [
       "array([[[1, 1, 1],\n",
       "        [1, 1, 1],\n",
       "        [1, 1, 1]],\n",
       "\n",
       "       [[1, 1, 1],\n",
       "        [1, 1, 1],\n",
       "        [1, 1, 1]],\n",
       "\n",
       "       [[1, 1, 1],\n",
       "        [1, 1, 1],\n",
       "        [1, 1, 1]]])"
      ]
     },
     "execution_count": 119,
     "metadata": {},
     "output_type": "execute_result"
    }
   ],
   "source": [
    "# Creating a nxnxn cube of 1's\n",
    "# astype() sets the array with integer elements\n",
    "n = 3\n",
    "cube = np.zeros((n,n,n)).astype(int) + 1\n",
    "cube"
   ]
  },
  {
   "cell_type": "code",
   "execution_count": 151,
   "id": "d120d218-34da-4b97-b0f6-fea293eaa441",
   "metadata": {
    "tags": []
   },
   "outputs": [
    {
     "data": {
      "text/plain": [
       "array([25.33, 25.33], dtype=float16)"
      ]
     },
     "execution_count": 151,
     "metadata": {},
     "output_type": "execute_result"
    }
   ],
   "source": [
    "# Again, you can set the data type in the NumPy arrays. \n",
    "# You can specify it using the \"dtype\" parameter in the methods.\n",
    "# \n",
    "arr = np.zeros(2,dtype=np.float16) + 25.334234232327843274329\n",
    "arr"
   ]
  },
  {
   "cell_type": "code",
   "execution_count": 201,
   "id": "614f5a4e-01dc-4917-8958-f890eefc53ba",
   "metadata": {
    "tags": []
   },
   "outputs": [
    {
     "data": {
      "text/plain": [
       "array([[[ 0,  1,  2],\n",
       "        [ 3,  4,  5],\n",
       "        [ 6,  7,  8]],\n",
       "\n",
       "       [[ 9, 10, 11],\n",
       "        [12, 13, 14],\n",
       "        [15, 16, 17]],\n",
       "\n",
       "       [[18, 19, 20],\n",
       "        [21, 22, 23],\n",
       "        [24, 25, 26]]])"
      ]
     },
     "execution_count": 201,
     "metadata": {},
     "output_type": "execute_result"
    }
   ],
   "source": [
    "# You can reshape any array into another dimensions array. \n",
    "# Just remember, the numbers in the reshape must multiply \n",
    "# to equal the number of elements in the array. \n",
    "# For example, 3*3*3 = 27, so we can reshape it in that form.\n",
    "\n",
    "# reshape (number_of_matrix,line_number,column_number)\n",
    "\n",
    "arr1d = np.arange(27)\n",
    "arr3d = arr1d.reshape((3,3,3))\n",
    "#arr3d = np.reshape(arr1d, (3,3,3))\n",
    "arr3d"
   ]
  },
  {
   "cell_type": "code",
   "execution_count": 197,
   "id": "cd34a777-0056-40f7-99d8-7e8a8d60dcbf",
   "metadata": {
    "tags": []
   },
   "outputs": [
    {
     "data": {
      "text/plain": [
       "array([ 0,  1,  2,  3,  4,  5,  6,  7,  8,  9, 10, 11, 12, 13, 14, 15, 16,\n",
       "       17, 18, 19, 20, 21, 22, 23, 24, 25, 26])"
      ]
     },
     "execution_count": 197,
     "metadata": {},
     "output_type": "execute_result"
    }
   ],
   "source": [
    "# you can do the inverse too with ravel\n",
    "arr = arr3d.ravel()\n",
    "arr"
   ]
  },
  {
   "cell_type": "code",
   "execution_count": 205,
   "id": "7d9dbefd-a6c9-43f0-b289-fbccbe12ea85",
   "metadata": {
    "tags": []
   },
   "outputs": [
    {
     "data": {
      "text/plain": [
       "(27,)"
      ]
     },
     "execution_count": 205,
     "metadata": {},
     "output_type": "execute_result"
    }
   ],
   "source": [
    "# You can see the dimensions of the array with the shape attribute.\n",
    "arr.shape"
   ]
  },
  {
   "cell_type": "code",
   "execution_count": null,
   "id": "3eea03c7-970e-45a8-af15-15d30fdb1aa7",
   "metadata": {},
   "outputs": [],
   "source": []
  }
 ],
 "metadata": {
  "kernelspec": {
   "display_name": "Python 3 (ipykernel)",
   "language": "python",
   "name": "python3"
  },
  "language_info": {
   "codemirror_mode": {
    "name": "ipython",
    "version": 3
   },
   "file_extension": ".py",
   "mimetype": "text/x-python",
   "name": "python",
   "nbconvert_exporter": "python",
   "pygments_lexer": "ipython3",
   "version": "3.11.7"
  }
 },
 "nbformat": 4,
 "nbformat_minor": 5
}
